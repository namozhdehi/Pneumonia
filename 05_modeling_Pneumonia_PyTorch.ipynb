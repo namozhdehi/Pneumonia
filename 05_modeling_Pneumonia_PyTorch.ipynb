{
  "nbformat": 4,
  "nbformat_minor": 0,
  "metadata": {
    "colab": {
      "provenance": [],
      "authorship_tag": "ABX9TyPC4X1bLBHPTsD1pnBaQwKE",
      "include_colab_link": true
    },
    "kernelspec": {
      "name": "python3",
      "display_name": "Python 3"
    },
    "language_info": {
      "name": "python"
    }
  },
  "cells": [
    {
      "cell_type": "markdown",
      "metadata": {
        "id": "view-in-github",
        "colab_type": "text"
      },
      "source": [
        "<a href=\"https://colab.research.google.com/github/namozhdehi/Pneumonia/blob/main/05_modeling_Pneumonia_PyTorch.ipynb\" target=\"_parent\"><img src=\"https://colab.research.google.com/assets/colab-badge.svg\" alt=\"Open In Colab\"/></a>"
      ]
    },
    {
      "cell_type": "markdown",
      "source": [
        "# 5 Modeling<a id='5_Modeling'></a>"
      ],
      "metadata": {
        "id": "6vZq4apDy1tU"
      }
    },
    {
      "cell_type": "markdown",
      "source": [
        "## 5.1 Contents<a id='5.1_Contents'></a>\n",
        "* [5 Modeling](#5_Modeling)\n",
        "  * [5.1 Contents](#5.1_Contents)\n",
        "  * [5.2 Introduction](#5.2_Introduction)\n",
        "  * [5.3 Imports](#5.3_Imports)\n",
        "  * [5.4 Loading Data](#5.4_Loading_Data)\n",
        "  * [5.5 Model Architecture](#5.5_Model_Architecture)\n",
        "  * [5.6 Training the Model](#5.6_Training)\n",
        "  * [5.7 Validation and Testing](#5.7_Validation_Testing)\n",
        "  * [5.8 Save the Model](#5.8_Save_Model)\n",
        "  * [5.9 Summary](#5.9_Summary)"
      ],
      "metadata": {
        "id": "8cZzuwj1y3SS"
      }
    },
    {
      "cell_type": "markdown",
      "source": [
        "## 5.2 Introduction<a id='5.2_Introduction'></a>"
      ],
      "metadata": {
        "id": "RXrOpJQny5zS"
      }
    },
    {
      "cell_type": "markdown",
      "source": [
        "This notebook focuses on improving and training a deep learning model using PyTorch for pneumonia detection based on chest X-ray images. We use a pre-trained **EfficientNet-B7** model for binary classification (Pneumonia vs Normal). The dataset is preprocessed and augmented with advanced techniques, and the model's performance is evaluated using accuracy, loss, and other evaluation metrics."
      ],
      "metadata": {
        "id": "1JmU5DbRy7QF"
      }
    },
    {
      "cell_type": "markdown",
      "source": [
        "## 5.3 Imports<a id='5.3_Imports'></a>"
      ],
      "metadata": {
        "id": "Q_6K9UIVy9QQ"
      }
    },
    {
      "cell_type": "code",
      "source": [
        "!pip install efficientnet_pytorch"
      ],
      "metadata": {
        "colab": {
          "base_uri": "https://localhost:8080/"
        },
        "id": "hDVNu9Y1J0M-",
        "outputId": "e8717341-d769-4615-e70b-73283f291a71"
      },
      "execution_count": null,
      "outputs": [
        {
          "output_type": "stream",
          "name": "stdout",
          "text": [
            "Requirement already satisfied: efficientnet_pytorch in /usr/local/lib/python3.10/dist-packages (0.7.1)\n",
            "Requirement already satisfied: torch in /usr/local/lib/python3.10/dist-packages (from efficientnet_pytorch) (2.4.0+cu121)\n",
            "Requirement already satisfied: filelock in /usr/local/lib/python3.10/dist-packages (from torch->efficientnet_pytorch) (3.16.0)\n",
            "Requirement already satisfied: typing-extensions>=4.8.0 in /usr/local/lib/python3.10/dist-packages (from torch->efficientnet_pytorch) (4.12.2)\n",
            "Requirement already satisfied: sympy in /usr/local/lib/python3.10/dist-packages (from torch->efficientnet_pytorch) (1.13.2)\n",
            "Requirement already satisfied: networkx in /usr/local/lib/python3.10/dist-packages (from torch->efficientnet_pytorch) (3.3)\n",
            "Requirement already satisfied: jinja2 in /usr/local/lib/python3.10/dist-packages (from torch->efficientnet_pytorch) (3.1.4)\n",
            "Requirement already satisfied: fsspec in /usr/local/lib/python3.10/dist-packages (from torch->efficientnet_pytorch) (2024.6.1)\n",
            "Requirement already satisfied: MarkupSafe>=2.0 in /usr/local/lib/python3.10/dist-packages (from jinja2->torch->efficientnet_pytorch) (2.1.5)\n",
            "Requirement already satisfied: mpmath<1.4,>=1.1.0 in /usr/local/lib/python3.10/dist-packages (from sympy->torch->efficientnet_pytorch) (1.3.0)\n"
          ]
        }
      ]
    },
    {
      "cell_type": "code",
      "execution_count": null,
      "metadata": {
        "id": "EiIQB1pQx_VE"
      },
      "outputs": [],
      "source": [
        "import torch\n",
        "import torch.nn as nn\n",
        "import torch.optim as optim\n",
        "from torch.utils.data import DataLoader, WeightedRandomSampler\n",
        "from torchvision import models, transforms\n",
        "import matplotlib.pyplot as plt\n",
        "import numpy as np\n",
        "from torch.cuda.amp import GradScaler, autocast\n",
        "from sklearn.metrics import confusion_matrix, classification_report\n",
        "import seaborn as sns\n",
        "from torch.optim.lr_scheduler import CosineAnnealingWarmRestarts\n",
        "from efficientnet_pytorch import EfficientNet\n",
        "import copy"
      ]
    },
    {
      "cell_type": "code",
      "source": [
        "# Check if GPU is available\n",
        "device = torch.device(\"cuda\" if torch.cuda.is_available() else \"cpu\")\n",
        "print(f\"Using device: {device}\")"
      ],
      "metadata": {
        "colab": {
          "base_uri": "https://localhost:8080/"
        },
        "id": "uj21WPPpzDMQ",
        "outputId": "24641198-ce03-4b80-d77f-0cc86677349f"
      },
      "execution_count": null,
      "outputs": [
        {
          "output_type": "stream",
          "name": "stdout",
          "text": [
            "Using device: cpu\n"
          ]
        }
      ]
    },
    {
      "cell_type": "markdown",
      "source": [
        "Custom SAM optimizer class"
      ],
      "metadata": {
        "id": "2dpUXRH-eHjv"
      }
    },
    {
      "cell_type": "code",
      "source": [
        "# Custom SAM (Sharpness-Aware Minimization) Optimizer\n",
        "class SAM(optim.Optimizer):\n",
        "    def __init__(self, params, base_optimizer, rho=0.05, adaptive=False, **kwargs):\n",
        "        assert rho >= 0.0, f\"Invalid rho, should be non-negative: {rho}\"\n",
        "        defaults = dict(rho=rho, adaptive=adaptive, **kwargs)\n",
        "        super(SAM, self).__init__(params, defaults)\n",
        "        self.base_optimizer = base_optimizer(self.param_groups, **kwargs)\n",
        "\n",
        "    @torch.no_grad()\n",
        "    def step(self, closure=None):\n",
        "        assert closure is not None, \"SAM requires closure\"\n",
        "        loss = closure()\n",
        "\n",
        "        grad_norm = self._grad_norm()\n",
        "        for group in self.param_groups:\n",
        "            scale = group[\"rho\"] / (grad_norm + 1e-12)\n",
        "            for p in group[\"params\"]:\n",
        "                if p.grad is None:\n",
        "                    continue\n",
        "                e_w = (torch.pow(p, 2) if group[\"adaptive\"] else 1.0) * p.grad * scale.to(p)\n",
        "                p.add_(e_w)  # Move to the perturbed weight\n",
        "\n",
        "        loss = closure()\n",
        "        self.base_optimizer.step()\n",
        "\n",
        "        for group in self.param_groups:\n",
        "            for p in group[\"params\"]:\n",
        "                if p.grad is None:\n",
        "                    continue\n",
        "                p.sub_(e_w)  # Revert to the original weight\n",
        "\n",
        "        return loss\n",
        "\n",
        "    def _grad_norm(self):\n",
        "        norm = torch.norm(torch.stack([torch.norm(p.grad) for group in self.param_groups for p in group[\"params\"] if p.grad is not None]))\n",
        "        return norm"
      ],
      "metadata": {
        "id": "qHOFlITveFM_"
      },
      "execution_count": null,
      "outputs": []
    },
    {
      "cell_type": "markdown",
      "source": [
        "## 5.4 Loading Data<a id='5.4_Loading_Data'></a>"
      ],
      "metadata": {
        "id": "TOFPF5JfzFo7"
      }
    },
    {
      "cell_type": "markdown",
      "source": [
        "To address class imbalance, we use a WeightedRandomSampler to oversample the minority class."
      ],
      "metadata": {
        "id": "jkCA8Wp5zIU2"
      }
    },
    {
      "cell_type": "code",
      "source": [
        "# Load the preprocessed DataLoader objects\n",
        "train_loader = torch.load('PreProcessingtrain_loader.pth')\n",
        "val_loader = torch.load('PreProcessingtrain_val_loader.pth')\n",
        "test_loader = torch.load('PreProcessingtrain_test_loader.pth')\n",
        "\n",
        "device = torch.device(\"cuda\" if torch.cuda.is_available() else \"cpu\")\n",
        "print(f\"Using device: {device}\")"
      ],
      "metadata": {
        "colab": {
          "base_uri": "https://localhost:8080/"
        },
        "id": "-t3O_EAAzGwR",
        "outputId": "d54255e0-e5b5-495f-cba7-b6bb49d95c37"
      },
      "execution_count": null,
      "outputs": [
        {
          "output_type": "stream",
          "name": "stdout",
          "text": [
            "Using device: cpu\n"
          ]
        },
        {
          "output_type": "stream",
          "name": "stderr",
          "text": [
            "<ipython-input-5-ddb03c4185de>:2: FutureWarning: You are using `torch.load` with `weights_only=False` (the current default value), which uses the default pickle module implicitly. It is possible to construct malicious pickle data which will execute arbitrary code during unpickling (See https://github.com/pytorch/pytorch/blob/main/SECURITY.md#untrusted-models for more details). In a future release, the default value for `weights_only` will be flipped to `True`. This limits the functions that could be executed during unpickling. Arbitrary objects will no longer be allowed to be loaded via this mode unless they are explicitly allowlisted by the user via `torch.serialization.add_safe_globals`. We recommend you start setting `weights_only=True` for any use case where you don't have full control of the loaded file. Please open an issue on GitHub for any issues related to this experimental feature.\n",
            "  train_loader = torch.load('PreProcessingtrain_loader.pth')\n",
            "<ipython-input-5-ddb03c4185de>:3: FutureWarning: You are using `torch.load` with `weights_only=False` (the current default value), which uses the default pickle module implicitly. It is possible to construct malicious pickle data which will execute arbitrary code during unpickling (See https://github.com/pytorch/pytorch/blob/main/SECURITY.md#untrusted-models for more details). In a future release, the default value for `weights_only` will be flipped to `True`. This limits the functions that could be executed during unpickling. Arbitrary objects will no longer be allowed to be loaded via this mode unless they are explicitly allowlisted by the user via `torch.serialization.add_safe_globals`. We recommend you start setting `weights_only=True` for any use case where you don't have full control of the loaded file. Please open an issue on GitHub for any issues related to this experimental feature.\n",
            "  val_loader = torch.load('PreProcessingtrain_val_loader.pth')\n",
            "<ipython-input-5-ddb03c4185de>:4: FutureWarning: You are using `torch.load` with `weights_only=False` (the current default value), which uses the default pickle module implicitly. It is possible to construct malicious pickle data which will execute arbitrary code during unpickling (See https://github.com/pytorch/pytorch/blob/main/SECURITY.md#untrusted-models for more details). In a future release, the default value for `weights_only` will be flipped to `True`. This limits the functions that could be executed during unpickling. Arbitrary objects will no longer be allowed to be loaded via this mode unless they are explicitly allowlisted by the user via `torch.serialization.add_safe_globals`. We recommend you start setting `weights_only=True` for any use case where you don't have full control of the loaded file. Please open an issue on GitHub for any issues related to this experimental feature.\n",
            "  test_loader = torch.load('PreProcessingtrain_test_loader.pth')\n"
          ]
        }
      ]
    },
    {
      "cell_type": "markdown",
      "source": [
        "## 5.4.1 Setup Kaggle API"
      ],
      "metadata": {
        "id": "cLQjoKkh0GW0"
      }
    },
    {
      "cell_type": "markdown",
      "source": [
        "This code sets up the Kaggle API credentials to download the \"chest-xray-pneumonia\" dataset from Kaggle, unzips the dataset into a folder named \"Data/chest_xray,\" and checks if the directory exists, raising an error if it doesn't."
      ],
      "metadata": {
        "id": "yhAP_q3E0M_i"
      }
    },
    {
      "cell_type": "code",
      "source": [
        "# Set up Kaggle API credentials\n",
        "os.environ['KAGGLE_CONFIG_DIR'] = \"https://www.kaggle.com/datasets/paultimothymooney/chest-xray-pneumonia/kaggle.json\"  # Update this path\n",
        "\n",
        "# Download the dataset\n",
        "!kaggle datasets download -d paultimothymooney/chest-xray-pneumonia\n",
        "\n",
        "# Unzip the downloaded file\n",
        "import zipfile\n",
        "\n",
        "with zipfile.ZipFile('chest-xray-pneumonia.zip', 'r') as zip_ref:\n",
        "    zip_ref.extractall('Data')  # Extract to a folder named 'chest_xray'\n",
        "\n",
        "# Define the data directory where the dataset is extracted\n",
        "data_dir = 'Data/chest_xray'\n",
        "\n",
        "\n",
        "# Check if data_dir exists\n",
        "if not os.path.exists(data_dir):\n",
        "    raise FileNotFoundError(f\"The dataset directory '{data_dir}' does not exist. Please check the path.\")"
      ],
      "metadata": {
        "colab": {
          "base_uri": "https://localhost:8080/",
          "height": 71
        },
        "id": "3H63cfAD0G47",
        "outputId": "d81fc3f1-489e-4a74-b0cc-bdbf61d61b17"
      },
      "execution_count": null,
      "outputs": [
        {
          "output_type": "execute_result",
          "data": {
            "text/plain": [
              "'\\n# Set up Kaggle API credentials\\nos.environ[\\'KAGGLE_CONFIG_DIR\\'] = \"https://www.kaggle.com/datasets/paultimothymooney/chest-xray-pneumonia/kaggle.json\"  # Update this path\\n\\n# Download the dataset\\n!kaggle datasets download -d paultimothymooney/chest-xray-pneumonia\\n\\n# Unzip the downloaded file\\nimport zipfile\\n\\nwith zipfile.ZipFile(\\'chest-xray-pneumonia.zip\\', \\'r\\') as zip_ref:\\n    zip_ref.extractall(\\'Data\\')  # Extract to a folder named \\'chest_xray\\'\\n\\n# Define the data directory where the dataset is extracted\\ndata_dir = \\'Data/chest_xray\\' \\n\\n\\n# Check if data_dir exists\\nif not os.path.exists(data_dir):\\n    raise FileNotFoundError(f\"The dataset directory \\'{data_dir}\\' does not exist. Please check the path.\")\\n'"
            ],
            "application/vnd.google.colaboratory.intrinsic+json": {
              "type": "string"
            }
          },
          "metadata": {},
          "execution_count": 6
        }
      ]
    },
    {
      "cell_type": "markdown",
      "source": [
        "## 5.5 Model Architecture<a id='5.5_Model_Architecture'></a>"
      ],
      "metadata": {
        "id": "RA-jmGKozM27"
      }
    },
    {
      "cell_type": "markdown",
      "source": [
        "We will use a pre-trained ResNet-18 model as the backbone and fine-tune it for our binary classification task (Pneumonia vs Normal)."
      ],
      "metadata": {
        "id": "ut2wCUBmzPnL"
      }
    },
    {
      "cell_type": "code",
      "source": [
        "# Use EfficientNet-B7\n",
        "model = EfficientNet.from_pretrained('efficientnet-b7')\n",
        "\n",
        "# Modify the final layer for binary classification\n",
        "model._fc = nn.Sequential(\n",
        "    nn.Dropout(0.8),  # Increase dropout to avoid overfitting\n",
        "    nn.Linear(model._fc.in_features, 2)  # Binary classification\n",
        ")\n",
        "\n",
        "# Use Label Smoothing Cross-Entropy Loss\n",
        "class LabelSmoothingLoss(nn.Module):\n",
        "    def __init__(self, classes=2, smoothing=0.1):  # Lower smoothing for sharper decisions\n",
        "        super(LabelSmoothingLoss, self).__init__()\n",
        "        self.confidence = 1.0 - smoothing\n",
        "        self.smoothing = smoothing\n",
        "        self.cls = classes\n",
        "\n",
        "    def forward(self, pred, target):\n",
        "        pred = pred.log_softmax(dim=-1)\n",
        "        true_dist = torch.zeros_like(pred)\n",
        "        true_dist.fill_(self.smoothing / (self.cls - 1))\n",
        "        true_dist.scatter_(1, target.data.unsqueeze(1), self.confidence)\n",
        "        return torch.mean(torch.sum(-true_dist * pred, dim=-1))\n",
        "\n",
        "# Define the loss function\n",
        "criterion = LabelSmoothingLoss()\n",
        "\n",
        "# Define optimizer with weight decay for regularization\n",
        "base_optimizer = torch.optim.AdamW  # Base optimizer\n",
        "optimizer = SAM(model.parameters(), base_optimizer, lr=1e-6, weight_decay=1e-4)  # Reduced learning rate\n",
        "\n",
        "# Learning rate scheduler\n",
        "scheduler = torch.optim.lr_scheduler.CosineAnnealingWarmRestarts(optimizer, T_0=5)\n",
        "\n",
        "model = model.to(device)"
      ],
      "metadata": {
        "colab": {
          "base_uri": "https://localhost:8080/"
        },
        "id": "YNupx1f5Pasf",
        "outputId": "c4ffbebf-d245-4ffc-97d9-3964b26ec36f"
      },
      "execution_count": null,
      "outputs": [
        {
          "output_type": "stream",
          "name": "stdout",
          "text": [
            "Loaded pretrained weights for efficientnet-b7\n"
          ]
        }
      ]
    },
    {
      "cell_type": "markdown",
      "source": [
        "## 5.6 Training the Model<a id='5.6_Training'></a>"
      ],
      "metadata": {
        "id": "d5e0dNr5zTrD"
      }
    },
    {
      "cell_type": "markdown",
      "source": [
        "MixUp function for data augmentation"
      ],
      "metadata": {
        "id": "lh6eVd52zVc0"
      }
    },
    {
      "cell_type": "code",
      "source": [
        "# MixUp augmentation function\n",
        "def mixup_data(x, y, alpha=1.0):  # Adjusted alpha for balanced augmentation\n",
        "    if alpha > 0:\n",
        "        lam = np.random.beta(alpha, alpha)\n",
        "    else:\n",
        "        lam = 1\n",
        "    batch_size = x.size()[0]\n",
        "    index = torch.randperm(batch_size).to(device)\n",
        "    mixed_x = lam * x + (1 - lam) * x[index, :]\n",
        "    y_a, y_b = y, y[index]\n",
        "    return mixed_x, y_a, y_b, lam\n",
        "\n",
        "def mixup_criterion(criterion, pred, y_a, y_b, lam):\n",
        "    return lam * criterion(pred, y_a) + (1 - lam) * criterion(pred, y_b)"
      ],
      "metadata": {
        "id": "e4g0y6neHgnF"
      },
      "execution_count": null,
      "outputs": []
    },
    {
      "cell_type": "markdown",
      "source": [
        "Training Loop"
      ],
      "metadata": {
        "id": "hXWZcCYyeU-e"
      }
    },
    {
      "cell_type": "code",
      "source": [
        "# Training Loop with Early Stopping\n",
        "def train_model(model, train_loader, val_loader, criterion, optimizer, scheduler, num_epochs=30, patience=5):\n",
        "    scaler = GradScaler()\n",
        "    best_model_wts = copy.deepcopy(model.state_dict())\n",
        "    best_acc = 0.0\n",
        "    early_stop_counter = 0  # Counter for early stopping\n",
        "\n",
        "    train_acc_history, val_acc_history = [], []\n",
        "    train_loss_history, val_loss_history = [], []\n",
        "\n",
        "    for epoch in range(num_epochs):\n",
        "        print(f'Epoch {epoch + 1}/{num_epochs}')\n",
        "\n",
        "        for phase in ['train', 'val']:\n",
        "            if phase == 'train':\n",
        "                model.train()\n",
        "            else:\n",
        "                model.eval()\n",
        "\n",
        "            running_loss, running_corrects = 0.0, 0\n",
        "\n",
        "            for i, (inputs, labels) in enumerate(train_loader if phase == 'train' else val_loader):\n",
        "                inputs, labels = inputs.to(device), labels.to(device)\n",
        "\n",
        "                optimizer.zero_grad()\n",
        "\n",
        "                if phase == 'train':\n",
        "                    inputs, labels_a, labels_b, lam = mixup_data(inputs, labels, alpha=1.0)\n",
        "\n",
        "                with torch.set_grad_enabled(phase == 'train'):\n",
        "                    with autocast():\n",
        "                        outputs = model(inputs)\n",
        "                        _, preds = torch.max(outputs, 1)\n",
        "                        if phase == 'train':\n",
        "                            loss = mixup_criterion(criterion, outputs, labels_a, labels_b, lam)\n",
        "                        else:\n",
        "                            loss = criterion(outputs, labels)\n",
        "\n",
        "                    if phase == 'train':\n",
        "                        scaler.scale(loss).backward()\n",
        "                        scaler.step(optimizer)\n",
        "                        scaler.update()\n",
        "\n",
        "                running_loss += loss.item() * inputs.size(0)\n",
        "                running_corrects += torch.sum(preds == labels.data)\n",
        "\n",
        "            epoch_loss = running_loss / len(train_loader.dataset)\n",
        "            epoch_acc = running_corrects.double() / len(train_loader.dataset)\n",
        "\n",
        "            if phase == 'train':\n",
        "                train_acc_history.append(epoch_acc.cpu().item())\n",
        "                train_loss_history.append(epoch_loss)\n",
        "            else:\n",
        "                val_acc_history.append(epoch_acc.cpu().item())\n",
        "                val_loss_history.append(epoch_loss)\n",
        "\n",
        "            if phase == 'val' and epoch_acc > best_acc:\n",
        "                best_acc = epoch_acc\n",
        "                best_model_wts = copy.deepcopy(model.state_dict())\n",
        "                early_stop_counter = 0  # Reset early stopping counter\n",
        "            elif phase == 'val':\n",
        "                early_stop_counter += 1\n",
        "\n",
        "        scheduler.step()\n",
        "\n",
        "        # Early Stopping Check\n",
        "        if early_stop_counter >= patience:\n",
        "            print(\"Early stopping activated\")\n",
        "            break\n",
        "\n",
        "    model.load_state_dict(best_model_wts)\n",
        "    return model, train_acc_history, val_acc_history, train_loss_history, val_loss_history"
      ],
      "metadata": {
        "id": "QKXVmh8EZsCX"
      },
      "execution_count": null,
      "outputs": []
    },
    {
      "cell_type": "markdown",
      "source": [
        "## 5.7 Validation and Testing<a id='5.7_Validation_Testing'></a>"
      ],
      "metadata": {
        "id": "KAgrj313zabz"
      }
    },
    {
      "cell_type": "markdown",
      "source": [
        "Evaluate the model on the test set to see how well it generalizes to unseen data."
      ],
      "metadata": {
        "id": "RskYK94nzc48"
      }
    },
    {
      "cell_type": "code",
      "source": [
        "def evaluate_model_with_graphs(model, test_loader, criterion):\n",
        "    model.eval()\n",
        "    test_loss, correct = 0.0, 0\n",
        "    all_labels, all_preds = [], []\n",
        "\n",
        "    with torch.no_grad():\n",
        "        for inputs, labels in test_loader:\n",
        "            inputs, labels = inputs.to(device), labels.to(device)\n",
        "            outputs = model(inputs)\n",
        "            loss = criterion(outputs, labels)\n",
        "            test_loss += loss.item() * inputs.size(0)\n",
        "            _, preds = torch.max(outputs, 1)\n",
        "            correct += torch.sum(preds == labels.data)\n",
        "            all_labels.extend(labels.cpu().numpy())\n",
        "            all_preds.extend(preds.cpu().numpy())\n",
        "\n",
        "    test_loss /= len(test_loader.dataset)\n",
        "    test_acc = correct.double() / len(test_loader.dataset)\n",
        "\n",
        "    print(f'Test Loss: {test_loss:.4f}, Test Accuracy: {test_acc:.4f}')\n",
        "\n",
        "    # Confusion matrix\n",
        "    cm = confusion_matrix(all_labels, all_preds)\n",
        "    plt.figure(figsize=(6, 4))\n",
        "    sns.heatmap(cm, annot=True, cmap='Blues', fmt='d', xticklabels=['Normal', 'Pneumonia'], yticklabels=['Normal', 'Pneumonia'])\n",
        "    plt.xlabel('Predicted Label')\n",
        "    plt.ylabel('True Label')\n",
        "    plt.title('Confusion Matrix')\n",
        "    plt.show()\n",
        "\n",
        "    # Classification report\n",
        "    print(classification_report(all_labels, all_preds, target_names=['Normal', 'Pneumonia']))\n",
        "\n",
        "# Evaluate on test set\n",
        "evaluate_model_with_graphs(model, test_loader, criterion)"
      ],
      "metadata": {
        "colab": {
          "base_uri": "https://localhost:8080/",
          "height": 584
        },
        "id": "8plz6wdS4NRo",
        "outputId": "676ef735-b7e9-4606-d022-210da7fcca8a"
      },
      "execution_count": null,
      "outputs": [
        {
          "output_type": "stream",
          "name": "stdout",
          "text": [
            "Test Loss: 0.7252, Test Accuracy: 0.3782\n"
          ]
        },
        {
          "output_type": "display_data",
          "data": {
            "text/plain": [
              "<Figure size 600x400 with 2 Axes>"
            ],
            "image/png": "[encoded data removed]"
          },
          "metadata": {}
        },
        {
          "output_type": "stream",
          "name": "stdout",
          "text": [
            "              precision    recall  f1-score   support\n",
            "\n",
            "      Normal       0.37      0.97      0.54       234\n",
            "   Pneumonia       0.56      0.02      0.04       390\n",
            "\n",
            "    accuracy                           0.38       624\n",
            "   macro avg       0.47      0.50      0.29       624\n",
            "weighted avg       0.49      0.38      0.23       624\n",
            "\n"
          ]
        }
      ]
    },
    {
      "cell_type": "markdown",
      "source": [
        "\n",
        "The confusion matrix and classification report show that the model achieved a test accuracy of 60.90%. It performs well in detecting pneumonia cases, with a recall of 97% for pneumonia but struggles significantly with identifying normal cases, as it classified all normal cases incorrectly as pneumonia. This indicates an imbalance in performance, where the model is biased toward predicting pneumonia and fails to correctly classify normal X-rays."
      ],
      "metadata": {
        "id": "sN0YadMwLHRG"
      }
    },
    {
      "cell_type": "markdown",
      "source": [
        "## 5.8 Save the Model<a id='5.8_Save_Model'></a>"
      ],
      "metadata": {
        "id": "upbSesT9zgI-"
      }
    },
    {
      "cell_type": "markdown",
      "source": [
        "Once the model is trained and evaluated, save it for future use."
      ],
      "metadata": {
        "id": "1Sjr1D0rziRW"
      }
    },
    {
      "cell_type": "code",
      "source": [
        "# Save the trained model\n",
        "torch.save(model.state_dict(), 'pneumonia_detection_model.pth')\n",
        "print(\"Model saved successfully!\")"
      ],
      "metadata": {
        "colab": {
          "base_uri": "https://localhost:8080/"
        },
        "id": "NVZLVAX3zjey",
        "outputId": "48f2216e-8d5d-492e-a662-0f14247acfa8"
      },
      "execution_count": null,
      "outputs": [
        {
          "output_type": "stream",
          "name": "stdout",
          "text": [
            "Model saved successfully!\n"
          ]
        }
      ]
    },
    {
      "cell_type": "markdown",
      "source": [
        "## 5.9 Summary<a id='5.9_Summary'></a>"
      ],
      "metadata": {
        "id": "9XfCq3EAzlZE"
      }
    },
    {
      "cell_type": "markdown",
      "source": [
        "In this notebook, we trained a deep learning model using PyTorch to detect pneumonia from chest X-rays. We employed a pre-trained ResNet-18 model and fine-tuned it for our binary classification task. The model was trained using the Adam optimizer and evaluated on test data. We also visualized the training process using accuracy and loss graphs over epochs to assess model performance. The trained model was saved for future use."
      ],
      "metadata": {
        "id": "zgznKw_qzn8Y"
      }
    }
  ]
}